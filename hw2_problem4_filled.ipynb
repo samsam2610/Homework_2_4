{
  "nbformat": 4,
  "nbformat_minor": 0,
  "metadata": {
    "kernelspec": {
      "name": "python3",
      "display_name": "Python 3"
    },
    "language_info": {
      "codemirror_mode": {
        "name": "ipython",
        "version": 3
      },
      "file_extension": ".py",
      "mimetype": "text/x-python",
      "name": "python",
      "nbconvert_exporter": "python",
      "pygments_lexer": "ipython3",
      "version": "3.7.6"
    },
    "colab": {
      "name": "hw2_problem4_filled.ipynb",
      "provenance": [],
      "collapsed_sections": [],
      "toc_visible": true
    },
    "accelerator": "TPU"
  },
  "cells": [
    {
      "cell_type": "markdown",
      "metadata": {
        "id": "gg5s9KEsYKM0",
        "colab_type": "text"
      },
      "source": [
        "# Homework 2, Problem 4\n",
        "\n",
        "The goal of this problem is for you to try and classify whether or not an individual is likely to make more or less than 50K per year.  Carry out this task.  Try at least five general architectures, report precision, recall and f1 score on a test set.\n",
        "\n",
        "For each of the parts, report your preformance in terms not of just numbers but in terms of graphs. When you have training and validation data, please show the curves as the training progresses. You should know when you are overfitting or underfitting. Don't just report bare numbers. **You are free to add implmentation or markdown cells to make your notebook clearer!!**\n",
        "\n",
        "## Data:\n",
        "\n",
        "The following dataset was taken from the first dataset repository: http://archive.ics.uci.edu/ml/datasets/Adult\n",
        "\n",
        "As the original task of the dataset lays out, \n",
        "Please note:\n",
        "* the continuous variable fnlwgt represents final weight, which is the number of units in the target population that the responding unit represents."
      ]
    },
    {
      "cell_type": "markdown",
      "metadata": {
        "id": "5nbyYkeRYKM1",
        "colab_type": "text"
      },
      "source": [
        "## Part 1: Dealing with Missing Values\n",
        "\n",
        "What should you do about dealing with missing values - do you just drop those rows?  \n",
        "One of the most common problems we come accross in working with data \"in the wild\" is missing data. Often we will have observations (rows) that have only some of the needed attributes. Different rows will have different attributes missing. There are a number of strategies for dealing with the missing values. Clearly one could be dropping the column (attribute), or row (observation). Unfortuntely if you drop columns you may lose critical information that is helpful for classification and may be present in most (many) of the rows. You can drop rows but if many rows have at least one missing value, you may loose too much data. Do you try to impute (i. e. fill in) the missing data?  If so how?  \n",
        "\n",
        "Explain why you chose the strategy you did.\n",
        "\n",
        "*Hint - '?' denotes a missing value.*\n",
        "\n",
        "### Some possible strategies for dealing with missing data\n",
        "\n",
        "1. Whenever there is pleanty of data and very little missing data, you should consider dropping rows and/or columns. This may introduce some bias in the data but again, if the problem is limited to a very few rows or columns, it is easy in training to reproduce.\n",
        "\n",
        "2. Fill with fixed value using sklearn.impute.SimpleImputer.\n",
        "    a. 'constant' 0. Rarely a good idea but sometimes, if we can assume that when it is missing it is basically 0, this might be a good idea. For example a data may list number of house fires in a zip code and a missing value just means none.\n",
        "    b. 'mean' if the data is numeric, the mean is meaningfull.\n",
        "    c. 'median' may be more sensible if the data is integer or ordered. When the mean and median are very different it is important to understand what a \"typical\" example might mean. When considering \"income\", for example, a few large outliers will mess up the mean.\n",
        "    d. \"most_frequent' when you have categorical (nominal) labels, mean and median don't make any sense. Most probable label is what you need to use. This is also known as \"mode\".\n",
        "\n",
        "3. sklearn.impute.MissingIndicator: Sometimes the fact that a value is missing, is itself an important indicator. One can create a new feature/attribute that indicates a certain attribute is missing. If you later build a classifier by hand you can explicitly wieght each variable using the missing variable weights so that for that example (row) that attribute won't contribute to the classifier. In a deep neural network it is possible that the network can learn to do that automatically.\n",
        "\n",
        "4. One can use the sklearn.impute.KNNImputer which will look for rows to fill in the data.\n",
        "\n",
        "5. Fill with sklearn.impute.IterativeImputer scikit-learn provides a sophisticated imputation strategy. You can read up on this in the documentation, but it will fix on of the columns (attributes), and try to use the other features to predict similar to KNN but more sophisticated.\n",
        "\n",
        "6. Train a classifier: You can build your own classifier using machine learning. This is kind of a problem within a problem but if done correctly, it has the potential to be more accurate than a simpler method. Of course, if done badly it could be worse.\n",
        "\n",
        "7. Manually impute the missing values. You may know enough about the problem to build an ad-hoc way to fill in the missing values for each column in a way that makes the most sense. This almost always requires a great deal of domain expertise. \n",
        "\n"
      ]
    },
    {
      "cell_type": "code",
      "metadata": {
        "id": "A_lfJuqaOBdp",
        "colab_type": "code",
        "colab": {}
      },
      "source": [
        "from sklearn.model_selection import train_test_split, StratifiedKFold\n",
        "from sklearn.preprocessing import LabelEncoder, OneHotEncoder, MinMaxScaler, OrdinalEncoder\n",
        "from sklearn.compose import ColumnTransformer\n",
        "from sklearn import metrics, tree\n",
        "from sklearn.linear_model import LogisticRegression\n",
        "from sklearn.impute import KNNImputer\n",
        "\n",
        "import pandas as pd\n",
        "import missingno as msno \n",
        "import numpy as np"
      ],
      "execution_count": 0,
      "outputs": []
    },
    {
      "cell_type": "markdown",
      "metadata": {
        "id": "_DWFyf8iOA9d",
        "colab_type": "text"
      },
      "source": [
        ""
      ]
    },
    {
      "cell_type": "code",
      "metadata": {
        "id": "O9lveGjNYKM2",
        "colab_type": "code",
        "colab": {}
      },
      "source": [
        "# Add your code for filling in the data here. Please end by using the appropriate bandas method\n",
        "# to show the amount of missing data (which in the end should not be any since you dropped or filled in data)\n",
        "columns = [\n",
        "    \"age\",\n",
        "    \"work_class\",\n",
        "    \"fnlwgt\",\n",
        "    \"education\",\n",
        "    \"education_num\",\n",
        "    \"marital_status\",\n",
        "    \"occupation\",\n",
        "    \"relationship\",\n",
        "    \"race\",\n",
        "    \"sex\",\n",
        "    \"capital_gain\",\n",
        "    \"capital_loss\",\n",
        "    \"hours_per_week\",\n",
        "    \"native_country\",\n",
        "    \"target\"\n",
        "]\n",
        "url = \"http://archive.ics.uci.edu/ml/machine-learning-databases/adult/adult.data\"\n",
        "df = pd.read_csv(url, names=columns)\n",
        "for column in df.columns:\n",
        "    if df[column].dtype == \"object\":\n",
        "        df[column] = df[column].str.strip()"
      ],
      "execution_count": 0,
      "outputs": []
    },
    {
      "cell_type": "code",
      "metadata": {
        "id": "hJkIyJfUuo5r",
        "colab_type": "code",
        "colab": {}
      },
      "source": [
        "def count_missing(df, columns):\n",
        "  for name in df.columns:\n",
        "    value_count = df[name].value_counts()\n",
        "    if '?' in value_count.index:\n",
        "      value_count = value_count.loc['?']\n",
        "      print(\"%s: %.0f\" % (name, value_count))\n",
        "      "
      ],
      "execution_count": 0,
      "outputs": []
    },
    {
      "cell_type": "code",
      "metadata": {
        "id": "tVlydWdanvvw",
        "colab_type": "code",
        "colab": {
          "base_uri": "https://localhost:8080/",
          "height": 71
        },
        "outputId": "78a3b00f-2675-46f4-94d9-c74a7513ed50"
      },
      "source": [
        "count_missing(df, columns)"
      ],
      "execution_count": 5,
      "outputs": [
        {
          "output_type": "stream",
          "text": [
            "work_class: 1836\n",
            "occupation: 1843\n",
            "native_country: 583\n"
          ],
          "name": "stdout"
        }
      ]
    },
    {
      "cell_type": "markdown",
      "metadata": {
        "id": "ZGx6XSaO-qxe",
        "colab_type": "text"
      },
      "source": [
        "Check for correlation between missing values"
      ]
    },
    {
      "cell_type": "code",
      "metadata": {
        "id": "ggz_LGOQt9Fy",
        "colab_type": "code",
        "colab": {
          "base_uri": "https://localhost:8080/",
          "height": 1000
        },
        "outputId": "1d92ee78-4ce6-43e5-817f-ef7ce2eb929c"
      },
      "source": [
        "new_df = df.replace(to_replace='?', value=np.nan)\n",
        "msno.matrix(new_df)\n",
        "msno.heatmap(new_df)"
      ],
      "execution_count": 6,
      "outputs": [
        {
          "output_type": "execute_result",
          "data": {
            "text/plain": [
              "<matplotlib.axes._subplots.AxesSubplot at 0x7f9c03c41080>"
            ]
          },
          "metadata": {
            "tags": []
          },
          "execution_count": 6
        },
        {
          "output_type": "display_data",
          "data": {
            "image/png": "[encoded data removed]",
            "text/plain": [
              "<Figure size 1800x720 with 2 Axes>"
            ]
          },
          "metadata": {
            "tags": []
          }
        },
        {
          "output_type": "display_data",
          "data": {
            "image/png": "[encoded data removed]",
            "text/plain": [
              "<Figure size 1440x864 with 2 Axes>"
            ]
          },
          "metadata": {
            "tags": []
          }
        }
      ]
    },
    {
      "cell_type": "markdown",
      "metadata": {
        "id": "kbepmQ2J-1lm",
        "colab_type": "text"
      },
      "source": [
        "We can see that the working class and occupation missing values have strong correlation. There are not missing at random at all."
      ]
    },
    {
      "cell_type": "code",
      "metadata": {
        "id": "aEjT_4dqw5Am",
        "colab_type": "code",
        "colab": {
          "base_uri": "https://localhost:8080/",
          "height": 125
        },
        "outputId": "5c8724a8-2c67-41b6-95c3-c930c05ea166"
      },
      "source": [
        "a = df['work_class'].unique()\n",
        "b = df['occupation'].unique()\n",
        "print(a)\n",
        "print(b)"
      ],
      "execution_count": 7,
      "outputs": [
        {
          "output_type": "stream",
          "text": [
            "['State-gov' 'Self-emp-not-inc' 'Private' 'Federal-gov' 'Local-gov' '?'\n",
            " 'Self-emp-inc' 'Without-pay' 'Never-worked']\n",
            "['Adm-clerical' 'Exec-managerial' 'Handlers-cleaners' 'Prof-specialty'\n",
            " 'Other-service' 'Sales' 'Craft-repair' 'Transport-moving'\n",
            " 'Farming-fishing' 'Machine-op-inspct' 'Tech-support' '?'\n",
            " 'Protective-serv' 'Armed-Forces' 'Priv-house-serv']\n"
          ],
          "name": "stdout"
        }
      ]
    },
    {
      "cell_type": "code",
      "metadata": {
        "id": "5PRL3rX4oI5W",
        "colab_type": "code",
        "colab": {
          "base_uri": "https://localhost:8080/",
          "height": 204
        },
        "outputId": "5319d7db-4b1a-44a8-95f8-92b15a65f089"
      },
      "source": [
        "df.head()"
      ],
      "execution_count": 8,
      "outputs": [
        {
          "output_type": "execute_result",
          "data": {
            "text/html": [
              "<div>\n",
              "<style scoped>\n",
              "    .dataframe tbody tr th:only-of-type {\n",
              "        vertical-align: middle;\n",
              "    }\n",
              "\n",
              "    .dataframe tbody tr th {\n",
              "        vertical-align: top;\n",
              "    }\n",
              "\n",
              "    .dataframe thead th {\n",
              "        text-align: right;\n",
              "    }\n",
              "</style>\n",
              "<table border=\"1\" class=\"dataframe\">\n",
              "  <thead>\n",
              "    <tr style=\"text-align: right;\">\n",
              "      <th></th>\n",
              "      <th>age</th>\n",
              "      <th>work_class</th>\n",
              "      <th>fnlwgt</th>\n",
              "      <th>education</th>\n",
              "      <th>education_num</th>\n",
              "      <th>marital_status</th>\n",
              "      <th>occupation</th>\n",
              "      <th>relationship</th>\n",
              "      <th>race</th>\n",
              "      <th>sex</th>\n",
              "      <th>capital_gain</th>\n",
              "      <th>capital_loss</th>\n",
              "      <th>hours_per_week</th>\n",
              "      <th>native_country</th>\n",
              "      <th>target</th>\n",
              "    </tr>\n",
              "  </thead>\n",
              "  <tbody>\n",
              "    <tr>\n",
              "      <th>0</th>\n",
              "      <td>39</td>\n",
              "      <td>State-gov</td>\n",
              "      <td>77516</td>\n",
              "      <td>Bachelors</td>\n",
              "      <td>13</td>\n",
              "      <td>Never-married</td>\n",
              "      <td>Adm-clerical</td>\n",
              "      <td>Not-in-family</td>\n",
              "      <td>White</td>\n",
              "      <td>Male</td>\n",
              "      <td>2174</td>\n",
              "      <td>0</td>\n",
              "      <td>40</td>\n",
              "      <td>United-States</td>\n",
              "      <td>&lt;=50K</td>\n",
              "    </tr>\n",
              "    <tr>\n",
              "      <th>1</th>\n",
              "      <td>50</td>\n",
              "      <td>Self-emp-not-inc</td>\n",
              "      <td>83311</td>\n",
              "      <td>Bachelors</td>\n",
              "      <td>13</td>\n",
              "      <td>Married-civ-spouse</td>\n",
              "      <td>Exec-managerial</td>\n",
              "      <td>Husband</td>\n",
              "      <td>White</td>\n",
              "      <td>Male</td>\n",
              "      <td>0</td>\n",
              "      <td>0</td>\n",
              "      <td>13</td>\n",
              "      <td>United-States</td>\n",
              "      <td>&lt;=50K</td>\n",
              "    </tr>\n",
              "    <tr>\n",
              "      <th>2</th>\n",
              "      <td>38</td>\n",
              "      <td>Private</td>\n",
              "      <td>215646</td>\n",
              "      <td>HS-grad</td>\n",
              "      <td>9</td>\n",
              "      <td>Divorced</td>\n",
              "      <td>Handlers-cleaners</td>\n",
              "      <td>Not-in-family</td>\n",
              "      <td>White</td>\n",
              "      <td>Male</td>\n",
              "      <td>0</td>\n",
              "      <td>0</td>\n",
              "      <td>40</td>\n",
              "      <td>United-States</td>\n",
              "      <td>&lt;=50K</td>\n",
              "    </tr>\n",
              "    <tr>\n",
              "      <th>3</th>\n",
              "      <td>53</td>\n",
              "      <td>Private</td>\n",
              "      <td>234721</td>\n",
              "      <td>11th</td>\n",
              "      <td>7</td>\n",
              "      <td>Married-civ-spouse</td>\n",
              "      <td>Handlers-cleaners</td>\n",
              "      <td>Husband</td>\n",
              "      <td>Black</td>\n",
              "      <td>Male</td>\n",
              "      <td>0</td>\n",
              "      <td>0</td>\n",
              "      <td>40</td>\n",
              "      <td>United-States</td>\n",
              "      <td>&lt;=50K</td>\n",
              "    </tr>\n",
              "    <tr>\n",
              "      <th>4</th>\n",
              "      <td>28</td>\n",
              "      <td>Private</td>\n",
              "      <td>338409</td>\n",
              "      <td>Bachelors</td>\n",
              "      <td>13</td>\n",
              "      <td>Married-civ-spouse</td>\n",
              "      <td>Prof-specialty</td>\n",
              "      <td>Wife</td>\n",
              "      <td>Black</td>\n",
              "      <td>Female</td>\n",
              "      <td>0</td>\n",
              "      <td>0</td>\n",
              "      <td>40</td>\n",
              "      <td>Cuba</td>\n",
              "      <td>&lt;=50K</td>\n",
              "    </tr>\n",
              "  </tbody>\n",
              "</table>\n",
              "</div>"
            ],
            "text/plain": [
              "   age        work_class  fnlwgt  ... hours_per_week  native_country target\n",
              "0   39         State-gov   77516  ...             40   United-States  <=50K\n",
              "1   50  Self-emp-not-inc   83311  ...             13   United-States  <=50K\n",
              "2   38           Private  215646  ...             40   United-States  <=50K\n",
              "3   53           Private  234721  ...             40   United-States  <=50K\n",
              "4   28           Private  338409  ...             40            Cuba  <=50K\n",
              "\n",
              "[5 rows x 15 columns]"
            ]
          },
          "metadata": {
            "tags": []
          },
          "execution_count": 8
        }
      ]
    },
    {
      "cell_type": "code",
      "metadata": {
        "id": "44ds3STVThBP",
        "colab_type": "code",
        "colab": {
          "base_uri": "https://localhost:8080/",
          "height": 204
        },
        "outputId": "e8ac4e36-5add-4e2f-c86c-ede2314ed654"
      },
      "source": [
        "num_ix = df.select_dtypes(include=['int64', 'float64']).columns\n",
        "cat_ix = df.select_dtypes(include=['object', 'bool']).columns\n",
        "scaler = MinMaxScaler()\n",
        "\n",
        "df[num_ix] = scaler.fit_transform(df[num_ix])\n",
        "df.head()"
      ],
      "execution_count": 9,
      "outputs": [
        {
          "output_type": "execute_result",
          "data": {
            "text/html": [
              "<div>\n",
              "<style scoped>\n",
              "    .dataframe tbody tr th:only-of-type {\n",
              "        vertical-align: middle;\n",
              "    }\n",
              "\n",
              "    .dataframe tbody tr th {\n",
              "        vertical-align: top;\n",
              "    }\n",
              "\n",
              "    .dataframe thead th {\n",
              "        text-align: right;\n",
              "    }\n",
              "</style>\n",
              "<table border=\"1\" class=\"dataframe\">\n",
              "  <thead>\n",
              "    <tr style=\"text-align: right;\">\n",
              "      <th></th>\n",
              "      <th>age</th>\n",
              "      <th>work_class</th>\n",
              "      <th>fnlwgt</th>\n",
              "      <th>education</th>\n",
              "      <th>education_num</th>\n",
              "      <th>marital_status</th>\n",
              "      <th>occupation</th>\n",
              "      <th>relationship</th>\n",
              "      <th>race</th>\n",
              "      <th>sex</th>\n",
              "      <th>capital_gain</th>\n",
              "      <th>capital_loss</th>\n",
              "      <th>hours_per_week</th>\n",
              "      <th>native_country</th>\n",
              "      <th>target</th>\n",
              "    </tr>\n",
              "  </thead>\n",
              "  <tbody>\n",
              "    <tr>\n",
              "      <th>0</th>\n",
              "      <td>0.301370</td>\n",
              "      <td>State-gov</td>\n",
              "      <td>0.044302</td>\n",
              "      <td>Bachelors</td>\n",
              "      <td>0.800000</td>\n",
              "      <td>Never-married</td>\n",
              "      <td>Adm-clerical</td>\n",
              "      <td>Not-in-family</td>\n",
              "      <td>White</td>\n",
              "      <td>Male</td>\n",
              "      <td>0.02174</td>\n",
              "      <td>0.0</td>\n",
              "      <td>0.397959</td>\n",
              "      <td>United-States</td>\n",
              "      <td>&lt;=50K</td>\n",
              "    </tr>\n",
              "    <tr>\n",
              "      <th>1</th>\n",
              "      <td>0.452055</td>\n",
              "      <td>Self-emp-not-inc</td>\n",
              "      <td>0.048238</td>\n",
              "      <td>Bachelors</td>\n",
              "      <td>0.800000</td>\n",
              "      <td>Married-civ-spouse</td>\n",
              "      <td>Exec-managerial</td>\n",
              "      <td>Husband</td>\n",
              "      <td>White</td>\n",
              "      <td>Male</td>\n",
              "      <td>0.00000</td>\n",
              "      <td>0.0</td>\n",
              "      <td>0.122449</td>\n",
              "      <td>United-States</td>\n",
              "      <td>&lt;=50K</td>\n",
              "    </tr>\n",
              "    <tr>\n",
              "      <th>2</th>\n",
              "      <td>0.287671</td>\n",
              "      <td>Private</td>\n",
              "      <td>0.138113</td>\n",
              "      <td>HS-grad</td>\n",
              "      <td>0.533333</td>\n",
              "      <td>Divorced</td>\n",
              "      <td>Handlers-cleaners</td>\n",
              "      <td>Not-in-family</td>\n",
              "      <td>White</td>\n",
              "      <td>Male</td>\n",
              "      <td>0.00000</td>\n",
              "      <td>0.0</td>\n",
              "      <td>0.397959</td>\n",
              "      <td>United-States</td>\n",
              "      <td>&lt;=50K</td>\n",
              "    </tr>\n",
              "    <tr>\n",
              "      <th>3</th>\n",
              "      <td>0.493151</td>\n",
              "      <td>Private</td>\n",
              "      <td>0.151068</td>\n",
              "      <td>11th</td>\n",
              "      <td>0.400000</td>\n",
              "      <td>Married-civ-spouse</td>\n",
              "      <td>Handlers-cleaners</td>\n",
              "      <td>Husband</td>\n",
              "      <td>Black</td>\n",
              "      <td>Male</td>\n",
              "      <td>0.00000</td>\n",
              "      <td>0.0</td>\n",
              "      <td>0.397959</td>\n",
              "      <td>United-States</td>\n",
              "      <td>&lt;=50K</td>\n",
              "    </tr>\n",
              "    <tr>\n",
              "      <th>4</th>\n",
              "      <td>0.150685</td>\n",
              "      <td>Private</td>\n",
              "      <td>0.221488</td>\n",
              "      <td>Bachelors</td>\n",
              "      <td>0.800000</td>\n",
              "      <td>Married-civ-spouse</td>\n",
              "      <td>Prof-specialty</td>\n",
              "      <td>Wife</td>\n",
              "      <td>Black</td>\n",
              "      <td>Female</td>\n",
              "      <td>0.00000</td>\n",
              "      <td>0.0</td>\n",
              "      <td>0.397959</td>\n",
              "      <td>Cuba</td>\n",
              "      <td>&lt;=50K</td>\n",
              "    </tr>\n",
              "  </tbody>\n",
              "</table>\n",
              "</div>"
            ],
            "text/plain": [
              "        age        work_class    fnlwgt  ... hours_per_week  native_country target\n",
              "0  0.301370         State-gov  0.044302  ...       0.397959   United-States  <=50K\n",
              "1  0.452055  Self-emp-not-inc  0.048238  ...       0.122449   United-States  <=50K\n",
              "2  0.287671           Private  0.138113  ...       0.397959   United-States  <=50K\n",
              "3  0.493151           Private  0.151068  ...       0.397959   United-States  <=50K\n",
              "4  0.150685           Private  0.221488  ...       0.397959            Cuba  <=50K\n",
              "\n",
              "[5 rows x 15 columns]"
            ]
          },
          "metadata": {
            "tags": []
          },
          "execution_count": 9
        }
      ]
    },
    {
      "cell_type": "markdown",
      "metadata": {
        "id": "w6_iHeMCz5pb",
        "colab_type": "text"
      },
      "source": [
        "Because all the missing values are categorical data, we can use ordinal encoding to encode the remaining data, so we can later use that to find the missing values."
      ]
    },
    {
      "cell_type": "code",
      "metadata": {
        "id": "jlV4wkHwz4wU",
        "colab_type": "code",
        "colab": {}
      },
      "source": [
        "ordinal_enc_dict = {}\n",
        "\n",
        "for col_name in cat_ix:\n",
        "  ordinal_enc_dict[col_name] = OrdinalEncoder()\n",
        "\n",
        "  col = df[col_name]\n",
        "  col_not_null = col[col.notnull()]\n",
        "  reshaped_vals = col_not_null.values.reshape(-1, 1)\n",
        "\n",
        "  encoded_vals = ordinal_enc_dict[col_name].fit_transform(reshaped_vals)\n",
        "  df.loc[col.notnull(), col_name] = np.squeeze(encoded_vals)"
      ],
      "execution_count": 0,
      "outputs": []
    },
    {
      "cell_type": "markdown",
      "metadata": {
        "id": "JWUfbmnH2aqL",
        "colab_type": "text"
      },
      "source": [
        "Because except for age, occupation and working class are missing systematiccally. Hence, it is better to impute missing categorical data using sophisticated imputer like KNNimputer."
      ]
    },
    {
      "cell_type": "code",
      "metadata": {
        "id": "AyMMKWMn2OmT",
        "colab_type": "code",
        "colab": {}
      },
      "source": [
        "df_KNN_imputed = df.copy(deep=True)\n",
        "\n",
        "KNN_imputer = KNNImputer()\n",
        "\n",
        "df_KNN_imputed.iloc[:, :] = np.round(KNN_imputer.fit_transform(df_KNN_imputed))\n",
        "\n",
        "for col_name in cat_ix:\n",
        "  reshaped = df_KNN_imputed[col_name].values.reshape(-1, 1)\n",
        "\n",
        "  # df[col_name] = ordinal_enc_dict[col_name].inverse_transform(reshaped)\n",
        "  # df[col_name] = scaler.fit_transform(reshaped)\n",
        "  df[col_name] = reshaped"
      ],
      "execution_count": 0,
      "outputs": []
    },
    {
      "cell_type": "code",
      "metadata": {
        "id": "DVA6yRbzmvcr",
        "colab_type": "code",
        "colab": {
          "base_uri": "https://localhost:8080/",
          "height": 204
        },
        "outputId": "bc170e95-45e6-4b88-895a-303c512d17c4"
      },
      "source": [
        "df.head()"
      ],
      "execution_count": 12,
      "outputs": [
        {
          "output_type": "execute_result",
          "data": {
            "text/html": [
              "<div>\n",
              "<style scoped>\n",
              "    .dataframe tbody tr th:only-of-type {\n",
              "        vertical-align: middle;\n",
              "    }\n",
              "\n",
              "    .dataframe tbody tr th {\n",
              "        vertical-align: top;\n",
              "    }\n",
              "\n",
              "    .dataframe thead th {\n",
              "        text-align: right;\n",
              "    }\n",
              "</style>\n",
              "<table border=\"1\" class=\"dataframe\">\n",
              "  <thead>\n",
              "    <tr style=\"text-align: right;\">\n",
              "      <th></th>\n",
              "      <th>age</th>\n",
              "      <th>work_class</th>\n",
              "      <th>fnlwgt</th>\n",
              "      <th>education</th>\n",
              "      <th>education_num</th>\n",
              "      <th>marital_status</th>\n",
              "      <th>occupation</th>\n",
              "      <th>relationship</th>\n",
              "      <th>race</th>\n",
              "      <th>sex</th>\n",
              "      <th>capital_gain</th>\n",
              "      <th>capital_loss</th>\n",
              "      <th>hours_per_week</th>\n",
              "      <th>native_country</th>\n",
              "      <th>target</th>\n",
              "    </tr>\n",
              "  </thead>\n",
              "  <tbody>\n",
              "    <tr>\n",
              "      <th>0</th>\n",
              "      <td>0.301370</td>\n",
              "      <td>7.0</td>\n",
              "      <td>0.044302</td>\n",
              "      <td>9.0</td>\n",
              "      <td>0.800000</td>\n",
              "      <td>4.0</td>\n",
              "      <td>1.0</td>\n",
              "      <td>1.0</td>\n",
              "      <td>4.0</td>\n",
              "      <td>1.0</td>\n",
              "      <td>0.02174</td>\n",
              "      <td>0.0</td>\n",
              "      <td>0.397959</td>\n",
              "      <td>39.0</td>\n",
              "      <td>0.0</td>\n",
              "    </tr>\n",
              "    <tr>\n",
              "      <th>1</th>\n",
              "      <td>0.452055</td>\n",
              "      <td>6.0</td>\n",
              "      <td>0.048238</td>\n",
              "      <td>9.0</td>\n",
              "      <td>0.800000</td>\n",
              "      <td>2.0</td>\n",
              "      <td>4.0</td>\n",
              "      <td>0.0</td>\n",
              "      <td>4.0</td>\n",
              "      <td>1.0</td>\n",
              "      <td>0.00000</td>\n",
              "      <td>0.0</td>\n",
              "      <td>0.122449</td>\n",
              "      <td>39.0</td>\n",
              "      <td>0.0</td>\n",
              "    </tr>\n",
              "    <tr>\n",
              "      <th>2</th>\n",
              "      <td>0.287671</td>\n",
              "      <td>4.0</td>\n",
              "      <td>0.138113</td>\n",
              "      <td>11.0</td>\n",
              "      <td>0.533333</td>\n",
              "      <td>0.0</td>\n",
              "      <td>6.0</td>\n",
              "      <td>1.0</td>\n",
              "      <td>4.0</td>\n",
              "      <td>1.0</td>\n",
              "      <td>0.00000</td>\n",
              "      <td>0.0</td>\n",
              "      <td>0.397959</td>\n",
              "      <td>39.0</td>\n",
              "      <td>0.0</td>\n",
              "    </tr>\n",
              "    <tr>\n",
              "      <th>3</th>\n",
              "      <td>0.493151</td>\n",
              "      <td>4.0</td>\n",
              "      <td>0.151068</td>\n",
              "      <td>1.0</td>\n",
              "      <td>0.400000</td>\n",
              "      <td>2.0</td>\n",
              "      <td>6.0</td>\n",
              "      <td>0.0</td>\n",
              "      <td>2.0</td>\n",
              "      <td>1.0</td>\n",
              "      <td>0.00000</td>\n",
              "      <td>0.0</td>\n",
              "      <td>0.397959</td>\n",
              "      <td>39.0</td>\n",
              "      <td>0.0</td>\n",
              "    </tr>\n",
              "    <tr>\n",
              "      <th>4</th>\n",
              "      <td>0.150685</td>\n",
              "      <td>4.0</td>\n",
              "      <td>0.221488</td>\n",
              "      <td>9.0</td>\n",
              "      <td>0.800000</td>\n",
              "      <td>2.0</td>\n",
              "      <td>10.0</td>\n",
              "      <td>5.0</td>\n",
              "      <td>2.0</td>\n",
              "      <td>0.0</td>\n",
              "      <td>0.00000</td>\n",
              "      <td>0.0</td>\n",
              "      <td>0.397959</td>\n",
              "      <td>5.0</td>\n",
              "      <td>0.0</td>\n",
              "    </tr>\n",
              "  </tbody>\n",
              "</table>\n",
              "</div>"
            ],
            "text/plain": [
              "        age  work_class    fnlwgt  ...  hours_per_week  native_country  target\n",
              "0  0.301370         7.0  0.044302  ...        0.397959            39.0     0.0\n",
              "1  0.452055         6.0  0.048238  ...        0.122449            39.0     0.0\n",
              "2  0.287671         4.0  0.138113  ...        0.397959            39.0     0.0\n",
              "3  0.493151         4.0  0.151068  ...        0.397959            39.0     0.0\n",
              "4  0.150685         4.0  0.221488  ...        0.397959             5.0     0.0\n",
              "\n",
              "[5 rows x 15 columns]"
            ]
          },
          "metadata": {
            "tags": []
          },
          "execution_count": 12
        }
      ]
    },
    {
      "cell_type": "markdown",
      "metadata": {
        "id": "IRgKOfG2-fI7",
        "colab_type": "text"
      },
      "source": [
        "Check to make sure that all the missing values are filled"
      ]
    },
    {
      "cell_type": "code",
      "metadata": {
        "id": "8FuZdqXJ6zIS",
        "colab_type": "code",
        "colab": {
          "base_uri": "https://localhost:8080/",
          "height": 715
        },
        "outputId": "d3159413-0f6a-4b65-da58-4451d56424b5"
      },
      "source": [
        "msno.matrix(df)"
      ],
      "execution_count": 13,
      "outputs": [
        {
          "output_type": "execute_result",
          "data": {
            "text/plain": [
              "<matplotlib.axes._subplots.AxesSubplot at 0x7f9c01fc1550>"
            ]
          },
          "metadata": {
            "tags": []
          },
          "execution_count": 13
        },
        {
          "output_type": "display_data",
          "data": {
            "image/png": "[encoded data removed]",
            "text/plain": [
              "<Figure size 1800x720 with 2 Axes>"
            ]
          },
          "metadata": {
            "tags": []
          }
        }
      ]
    },
    {
      "cell_type": "markdown",
      "metadata": {
        "id": "kGogElnGYKM4",
        "colab_type": "text"
      },
      "source": [
        "## Part 2: Train Test Validate Split\n",
        "\n",
        "Ideally you will split the data and use the train data filling in proceedure for the test data. Because this is expensive you can do experiments initially to see if this matters. Just keep carefully in mind what you will know and what you can't know during the test evaluation. Both sklearn and tensorflow provide facilities for train test split. Take your pick.\n",
        "\n",
        "At the end of this you should have a train, validate and test split. In the next part you are going to do preliminary testing of your model with your train+validation sets to get some idea of good canditates for hyperparameters. Later you will merge your training and validation set and resplit them up using cross validation to get better estimates for setting hyper-parameters\n",
        "\n",
        "**NOTE: It is very important that you record very carefully any parameters you have for filling in data in step 1. For example if you you build a \"fit\" using some training data, later you will need to use the this \"fit\" to transform the data, you can not re-fit on new data. In other words if your \"pipline\" in training takes the mean of the input to fill in the first column, you need to fill with exactly that number, when you get new data for testing. Don't take the mean of the test data.**"
      ]
    },
    {
      "cell_type": "markdown",
      "metadata": {
        "id": "SnKOFTWxIbud",
        "colab_type": "text"
      },
      "source": [
        "Define dependent and independent Y, X data"
      ]
    },
    {
      "cell_type": "code",
      "metadata": {
        "id": "hCjHHON2YKM5",
        "colab_type": "code",
        "colab": {}
      },
      "source": [
        "Y = df.pop('target')\n",
        "Y = LabelEncoder().fit_transform(Y)\n",
        "X = df"
      ],
      "execution_count": 0,
      "outputs": []
    },
    {
      "cell_type": "markdown",
      "metadata": {
        "id": "gaeaS_7QJJn8",
        "colab_type": "text"
      },
      "source": [
        "Train, test, validation split"
      ]
    },
    {
      "cell_type": "code",
      "metadata": {
        "id": "3ksyHG-vIz83",
        "colab_type": "code",
        "colab": {}
      },
      "source": [
        "X_train, X_val, Y_train, Y_val = train_test_split(X, Y, test_size=0.2, random_state=1)\n",
        "X_train, X_test, Y_train, Y_test = train_test_split(X_train, Y_train, test_size=0.2, random_state=1)"
      ],
      "execution_count": 0,
      "outputs": []
    },
    {
      "cell_type": "markdown",
      "metadata": {
        "id": "CYuRud8TYKM8",
        "colab_type": "text"
      },
      "source": [
        "## Part 3: Build different 2 sklearn models and five different variations of Keras/tensorflow  models\n",
        "\n",
        "Two simple models should be baseline from sklearn. Try a logistic regression and a random forest to know what your dense neural network should be able to beat. Use the training and validation data from above (don't look at the testing data). Try varations on the number of notes in a layer, the number of layers. Also play with feature selection. You can try to eliminate featuers and see if your validation score goes up or down. See how the batch size effects things.\n",
        "\n",
        "### At the end of this section provide a report with figures on your conclusion on how these things effected preformance:\n",
        "\n",
        "* number of hidden layers\n",
        "* number of nodes per hidden layer aka matrix dimension\n",
        "* activation function\n",
        "* weight initialization\n",
        "* metrics for evaluation\n",
        "* batch size\n",
        "* number of epochs\n",
        "* optimizer\n",
        "* also carry out feature selection / dimensionality reduction\n",
        "* does the model do better or worse with dimensionality reduction?\n",
        "\n",
        "** Note: do not try regularization yet!*\n"
      ]
    },
    {
      "cell_type": "markdown",
      "metadata": {
        "id": "_Rr6_-L0NoBu",
        "colab_type": "text"
      },
      "source": [
        "### **Baseline models**"
      ]
    },
    {
      "cell_type": "markdown",
      "metadata": {
        "id": "P1H1JgnT9veA",
        "colab_type": "text"
      },
      "source": [
        "#### **Logistic regression**"
      ]
    },
    {
      "cell_type": "code",
      "metadata": {
        "id": "IoG4cabLvg-l",
        "colab_type": "code",
        "colab": {
          "base_uri": "https://localhost:8080/",
          "height": 35
        },
        "outputId": "0b5e172d-c260-44f3-e9bf-b2aefc89a03d"
      },
      "source": [
        "# instantiate\n",
        "logreg = LogisticRegression(max_iter=1000)\n",
        "logreg.fit(X_train, Y_train)\n",
        "Y_pred = logreg.predict(X_val)\n",
        "print('Logistic regression %.2f' % (metrics.accuracy_score(Y_val, Y_pred) * 100))"
      ],
      "execution_count": 28,
      "outputs": [
        {
          "output_type": "stream",
          "text": [
            "LogReg 82.71\n"
          ],
          "name": "stdout"
        }
      ]
    },
    {
      "cell_type": "markdown",
      "metadata": {
        "id": "TTY1UZMg95M9",
        "colab_type": "text"
      },
      "source": [
        "#### **Decision Tree Classifier**"
      ]
    },
    {
      "cell_type": "code",
      "metadata": {
        "id": "K_hwVMeuyxLq",
        "colab_type": "code",
        "colab": {
          "base_uri": "https://localhost:8080/",
          "height": 35
        },
        "outputId": "175a2da2-1ae4-4407-9933-2930085d39ac"
      },
      "source": [
        "clf = tree.DecisionTreeClassifier()\n",
        "clf = clf.fit(X_train, Y_train)\n",
        "Y_pred = clf.predict(X_val)\n",
        "print('Decision tree classifier %s' % metrics.accuracy_score(Y_val, Y_pred))"
      ],
      "execution_count": 29,
      "outputs": [
        {
          "output_type": "stream",
          "text": [
            "Decision tree classifier 0.8166743436204514\n"
          ],
          "name": "stdout"
        }
      ]
    },
    {
      "cell_type": "markdown",
      "metadata": {
        "id": "s0P18bYQNyF6",
        "colab_type": "text"
      },
      "source": [
        "### **Deep models**"
      ]
    },
    {
      "cell_type": "code",
      "metadata": {
        "id": "76QZOaobOSVl",
        "colab_type": "code",
        "colab": {}
      },
      "source": [
        "import tensorflow as tf\n",
        "from tensorflow import keras\n",
        "from tensorflow.keras import layers\n",
        "from tensorflow.keras.models import Sequential, Model\n",
        "from tensorflow.keras.layers import Dense, Dropout, Input\n",
        "from tensorflow.keras import regularizers\n",
        "from tensorflow.keras.callbacks import EarlyStopping\n",
        "import matplotlib.pyplot as plt\n",
        "import os\n",
        "os.environ['TF_CPP_MIN_LOG_LEVEL'] = '2'\n",
        "tf.compat.v1.logging.set_verbosity(tf.compat.v1.logging.ERROR)"
      ],
      "execution_count": 0,
      "outputs": []
    },
    {
      "cell_type": "code",
      "metadata": {
        "id": "IUoODjTVVipT",
        "colab_type": "code",
        "colab": {}
      },
      "source": [
        "def plot_loss_val(history):\n",
        "  plt.plot(history.history['acc'])\n",
        "  plt.plot(history.history['val_acc'])\n",
        "  plt.title('model accuracy')\n",
        "  plt.ylabel('accuracy')\n",
        "  plt.xlabel('epoch')\n",
        "  plt.legend(['train', 'test'], loc='upper left')\n",
        "  plt.show()\n",
        "  # summarize history for loss\n",
        "  plt.plot(history.history['loss'])\n",
        "  plt.plot(history.history['val_loss'])\n",
        "  plt.title('model loss')\n",
        "  plt.ylabel('loss')\n",
        "  plt.xlabel('epoch')\n",
        "  plt.legend(['train', 'test'], loc='upper left')\n",
        "  plt.show()"
      ],
      "execution_count": 0,
      "outputs": []
    },
    {
      "cell_type": "code",
      "metadata": {
        "id": "tpFNk_cFYxHk",
        "colab_type": "code",
        "colab": {}
      },
      "source": [
        "es = EarlyStopping(monitor='val_acc', mode='max', min_delta=0.001, patience=20, verbose=0)"
      ],
      "execution_count": 0,
      "outputs": []
    },
    {
      "cell_type": "markdown",
      "metadata": {
        "id": "B6ndbvlBQV2q",
        "colab_type": "text"
      },
      "source": [
        "#### **Model 1**"
      ]
    },
    {
      "cell_type": "code",
      "metadata": {
        "id": "OQFruy5AOhZM",
        "colab_type": "code",
        "outputId": "0be3c944-2fb9-45b3-981e-6d1e7a7bcadf",
        "colab": {
          "base_uri": "https://localhost:8080/",
          "height": 611
        }
      },
      "source": [
        "cvscores_1 = []\n",
        "def get_compiled_model_1():\n",
        "  model = Sequential([\n",
        "    Dense(60, input_dim=14),\n",
        "    Dense(30, activation='relu'),\n",
        "    Dense(15, activation='relu'),\n",
        "    # Dense(20, activation='relu'),\n",
        "    Dense(1, activation='sigmoid')\n",
        "  ])\n",
        "\n",
        "  model.compile(optimizer='adam',\n",
        "                loss=tf.keras.losses.BinaryCrossentropy(),\n",
        "                metrics=['accuracy', 'mse', 'mae', 'RootMeanSquaredError', 'categorical_accuracy'])\n",
        "  return model\n",
        "\n",
        "keras.backend.clear_session()\n",
        "model = get_compiled_model_1()\n",
        "history = model.fit(X_train, Y_train, validation_split=0.1, batch_size=30, epochs=100, callbacks=[es], verbose=0)\n",
        "scores = model.evaluate(X_val, Y_val)\n",
        "plot_loss_val(history)"
      ],
      "execution_count": 0,
      "outputs": [
        {
          "output_type": "stream",
          "text": [
            "6513/6513 [==============================] - 0s 28us/sample - loss: 0.3363 - acc: 0.8380 - mean_squared_error: 0.1088 - mean_absolute_error: 0.2273 - root_mean_squared_error: 0.3298 - categorical_accuracy: 1.0000\n"
          ],
          "name": "stdout"
        },
        {
          "output_type": "display_data",
          "data": {
            "image/png": "[encoded data removed]",
            "text/plain": [
              "<Figure size 432x288 with 1 Axes>"
            ]
          },
          "metadata": {
            "tags": []
          }
        },
        {
          "output_type": "display_data",
          "data": {
            "image/png": "[encoded data removed]",
            "text/plain": [
              "<Figure size 432x288 with 1 Axes>"
            ]
          },
          "metadata": {
            "tags": []
          }
        }
      ]
    },
    {
      "cell_type": "markdown",
      "metadata": {
        "id": "0lag0R4gQcan",
        "colab_type": "text"
      },
      "source": [
        "#### **Model 2 - Dimensionality reduction**"
      ]
    },
    {
      "cell_type": "code",
      "metadata": {
        "id": "Vs0W0V8CWx_i",
        "colab_type": "code",
        "colab": {}
      },
      "source": [
        "# define the number of features\n",
        "ncol = X_train.shape[1]"
      ],
      "execution_count": 0,
      "outputs": []
    },
    {
      "cell_type": "markdown",
      "metadata": {
        "id": "OBV0XMAhWc0D",
        "colab_type": "text"
      },
      "source": [
        "Autoencoder for dimensionality reduction"
      ]
    },
    {
      "cell_type": "code",
      "metadata": {
        "id": "kdZhFc4qQex0",
        "colab_type": "code",
        "outputId": "62dacf03-4e72-44a7-abb0-f6a9697ad138",
        "colab": {
          "base_uri": "https://localhost:8080/",
          "height": 573
        }
      },
      "source": [
        "### Define the enoder dimension\n",
        "encoding_dim = 12\n",
        "\n",
        "keras.backend.clear_session()\n",
        "input_dim = Input(shape = (ncol, ))\n",
        "\n",
        "encoded1 = Dense(13, activation='relu')(input_dim)\n",
        "encoded2 = Dense(12, activation='relu')(encoded1)\n",
        "encoded3 = Dense(encoding_dim, activation='relu')(encoded2)\n",
        "\n",
        "decoded1 = Dense(12, activation='relu')(encoded3)\n",
        "decoded2 = Dense(13, activation='relu')(decoded1)\n",
        "decoded3 = Dense(ncol, activation='softmax')(decoded2)\n",
        "  \n",
        "# Combine Encoder and Deocder layers\n",
        "autoencoder = Model(inputs = input_dim, outputs = decoded3)\n",
        "autoencoder.compile(optimizer='adadelta',\n",
        "                loss=tf.keras.losses.BinaryCrossentropy(),\n",
        "                metrics=['accuracy', 'mse', 'mae', 'RootMeanSquaredError', 'categorical_accuracy'])\n",
        "\n",
        "\n",
        "# autoencoder = get_compiled_model(ncol, encoding_dim)\n",
        "history = autoencoder.fit(X_train, X_train, validation_split=0.1, batch_size=100, epochs=100, verbose=0)\n",
        "# scores = model.evaluate(X_val, Y_val)\n",
        "plot_loss_val(history)"
      ],
      "execution_count": 0,
      "outputs": [
        {
          "output_type": "display_data",
          "data": {
            "image/png": "[encoded data removed]",
            "text/plain": [
              "<Figure size 432x288 with 1 Axes>"
            ]
          },
          "metadata": {
            "tags": []
          }
        },
        {
          "output_type": "display_data",
          "data": {
            "image/png": "[encoded data removed]",
            "text/plain": [
              "<Figure size 432x288 with 1 Axes>"
            ]
          },
          "metadata": {
            "tags": []
          }
        }
      ]
    },
    {
      "cell_type": "code",
      "metadata": {
        "id": "l5rs8SKIytfA",
        "colab_type": "code",
        "outputId": "51e6c03b-3ffe-4b1f-a513-9bbdded50ff6",
        "colab": {
          "base_uri": "https://localhost:8080/",
          "height": 611
        }
      },
      "source": [
        "encoder = Model(inputs = input_dim, outputs = encoded3)\n",
        "encoded_train = encoder.predict(X_train)\n",
        "encoded_val = encoder.predict(X_val)\n",
        "cvscores_2 = []\n",
        "def get_compiled_model_2():\n",
        "  model = Sequential([\n",
        "    Dense(60, input_dim=encoding_dim),\n",
        "    Dense(30, activation='relu'),\n",
        "    Dense(15, activation='relu'),\n",
        "    Dense(1, activation='sigmoid')\n",
        "  ])\n",
        "\n",
        "  model.compile(optimizer='adam',\n",
        "                loss=tf.keras.losses.BinaryCrossentropy(),\n",
        "                metrics=['accuracy', 'mse', 'mae', 'RootMeanSquaredError', 'categorical_accuracy'])\n",
        "  return model\n",
        "\n",
        "model = get_compiled_model_2()\n",
        "history = model.fit(encoded_train, Y_train, validation_split=0.1, batch_size=30, epochs=100, callbacks=[es], verbose=0)\n",
        "scores = model.evaluate(encoded_val, Y_val)\n",
        "plot_loss_val(history)"
      ],
      "execution_count": 0,
      "outputs": [
        {
          "output_type": "stream",
          "text": [
            "6513/6513 [==============================] - 0s 29us/sample - loss: 0.5409 - acc: 0.7695 - mean_squared_error: 0.1800 - mean_absolute_error: 0.3822 - root_mean_squared_error: 0.4242 - categorical_accuracy: 1.0000\n"
          ],
          "name": "stdout"
        },
        {
          "output_type": "display_data",
          "data": {
            "image/png": "[encoded data removed]",
            "text/plain": [
              "<Figure size 432x288 with 1 Axes>"
            ]
          },
          "metadata": {
            "tags": []
          }
        },
        {
          "output_type": "display_data",
          "data": {
            "image/png": "[encoded data removed]",
            "text/plain": [
              "<Figure size 432x288 with 1 Axes>"
            ]
          },
          "metadata": {
            "tags": []
          }
        }
      ]
    },
    {
      "cell_type": "markdown",
      "metadata": {
        "id": "9r5cfHuJ8Rze",
        "colab_type": "text"
      },
      "source": [
        "#### **Model 3**"
      ]
    },
    {
      "cell_type": "code",
      "metadata": {
        "id": "b0c61vxB8qko",
        "colab_type": "code",
        "outputId": "d9a25d4a-8e6b-4a2b-d45a-70c0bf7c07cf",
        "colab": {
          "base_uri": "https://localhost:8080/",
          "height": 611
        }
      },
      "source": [
        "cvscores_3 = []\n",
        "def get_compiled_model_3():\n",
        "  model = Sequential([\n",
        "    Dense(60, input_dim=14),\n",
        "    Dense(30, activation='relu'),\n",
        "    Dense(15, activation='relu'),\n",
        "    Dense(10, activation='relu'),\n",
        "    Dense(5, activation='relu'),\n",
        "    Dense(2, activation='relu'),\n",
        "    Dense(1, activation='sigmoid')\n",
        "  ])\n",
        "\n",
        "  model.compile(optimizer='adam',\n",
        "                loss=tf.keras.losses.BinaryCrossentropy(),\n",
        "                metrics=['accuracy', 'mse', 'mae', 'RootMeanSquaredError', 'categorical_accuracy'])\n",
        "  return model\n",
        "\n",
        "keras.backend.clear_session()\n",
        "model = get_compiled_model_3()\n",
        "history = model.fit(X_train, Y_train, validation_split=0.1, batch_size=30, epochs=100, callbacks=[es], verbose=0)\n",
        "scores = model.evaluate(X_val, Y_val)\n",
        "plot_loss_val(history)"
      ],
      "execution_count": 0,
      "outputs": [
        {
          "output_type": "stream",
          "text": [
            "6513/6513 [==============================] - 0s 28us/sample - loss: 0.5377 - acc: 0.7717 - mean_squared_error: 0.1763 - mean_absolute_error: 0.3591 - root_mean_squared_error: 0.4199 - categorical_accuracy: 1.0000\n"
          ],
          "name": "stdout"
        },
        {
          "output_type": "display_data",
          "data": {
            "image/png": "[encoded data removed]",
            "text/plain": [
              "<Figure size 432x288 with 1 Axes>"
            ]
          },
          "metadata": {
            "tags": []
          }
        },
        {
          "output_type": "display_data",
          "data": {
            "image/png": "[encoded data removed]",
            "text/plain": [
              "<Figure size 432x288 with 1 Axes>"
            ]
          },
          "metadata": {
            "tags": []
          }
        }
      ]
    },
    {
      "cell_type": "markdown",
      "metadata": {
        "id": "pwh4HF5q-sZT",
        "colab_type": "text"
      },
      "source": [
        "#### **Model 4**"
      ]
    },
    {
      "cell_type": "code",
      "metadata": {
        "id": "UWbGrxbD-sv6",
        "colab_type": "code",
        "outputId": "b3ce4518-97d5-4837-c498-1d91e2f73bdf",
        "colab": {
          "base_uri": "https://localhost:8080/",
          "height": 611
        }
      },
      "source": [
        "cvscores_4 = []\n",
        "def get_compiled_model_4():\n",
        "  model = Sequential([\n",
        "    Dense(60, input_dim=14),\n",
        "    Dense(30, activation='relu'),\n",
        "    Dense(15, activation='relu'),\n",
        "    Dense(10, activation='relu'),\n",
        "    Dense(5, activation='relu'),\n",
        "    Dense(2, activation='relu'),\n",
        "    Dense(1, activation='hard_sigmoid')\n",
        "  ])\n",
        "\n",
        "  model.compile(optimizer='adam',\n",
        "                loss=tf.keras.losses.BinaryCrossentropy(),\n",
        "                metrics=['accuracy', 'mse', 'mae', 'RootMeanSquaredError', 'categorical_accuracy'])\n",
        "  return model\n",
        "\n",
        "keras.backend.clear_session()\n",
        "model = get_compiled_model_4()\n",
        "history = model.fit(X_train, Y_train, validation_split=0.1, batch_size=30, epochs=100, callbacks=[es], verbose=0)\n",
        "scores = model.evaluate(X_val, Y_val)\n",
        "plot_loss_val(history)"
      ],
      "execution_count": 0,
      "outputs": [
        {
          "output_type": "stream",
          "text": [
            "6513/6513 [==============================] - 0s 28us/sample - loss: 0.5904 - acc: 0.7717 - mean_squared_error: 0.2017 - mean_absolute_error: 0.4363 - root_mean_squared_error: 0.4491 - categorical_accuracy: 1.0000\n"
          ],
          "name": "stdout"
        },
        {
          "output_type": "display_data",
          "data": {
            "image/png": "[encoded data removed]",
            "text/plain": [
              "<Figure size 432x288 with 1 Axes>"
            ]
          },
          "metadata": {
            "tags": []
          }
        },
        {
          "output_type": "display_data",
          "data": {
            "image/png": "[encoded data removed]",
            "text/plain": [
              "<Figure size 432x288 with 1 Axes>"
            ]
          },
          "metadata": {
            "tags": []
          }
        }
      ]
    },
    {
      "cell_type": "markdown",
      "metadata": {
        "id": "AmxsiUMrNOQ1",
        "colab_type": "text"
      },
      "source": [
        "#### **Model 5 - Simple dense network**"
      ]
    },
    {
      "cell_type": "code",
      "metadata": {
        "id": "pzhNJuY8OU3R",
        "colab_type": "code",
        "outputId": "11cd1e1d-4ba4-412e-a909-85c41eae30b7",
        "colab": {
          "base_uri": "https://localhost:8080/",
          "height": 611
        }
      },
      "source": [
        "cvscores_5 = []\n",
        "def get_compiled_model_5():\n",
        "  model = Sequential([\n",
        "    Dense(14, input_dim=14),\n",
        "    Dense(14, activation='relu'),\n",
        "    Dense(14, activation='relu'),\n",
        "    Dense(1, activation='sigmoid')\n",
        "  ])\n",
        "\n",
        "  model.compile(optimizer='adam',\n",
        "                loss=tf.keras.losses.BinaryCrossentropy(),\n",
        "                metrics=['accuracy', 'mse', 'mae', 'RootMeanSquaredError', 'categorical_accuracy'])\n",
        "  return model\n",
        "\n",
        "keras.backend.clear_session()\n",
        "model = get_compiled_model_5()\n",
        "history = model.fit(X_train, Y_train, validation_split=0.1, batch_size=30, epochs=100, callbacks=[es], verbose=0)\n",
        "scores = model.evaluate(X_val, Y_val)\n",
        "plot_loss_val(history)"
      ],
      "execution_count": 0,
      "outputs": [
        {
          "output_type": "stream",
          "text": [
            "6513/6513 [==============================] - 0s 26us/sample - loss: 0.3348 - acc: 0.8386 - mean_squared_error: 0.1080 - mean_absolute_error: 0.2197 - root_mean_squared_error: 0.3286 - categorical_accuracy: 1.0000\n"
          ],
          "name": "stdout"
        },
        {
          "output_type": "display_data",
          "data": {
            "image/png": "[encoded data removed]",
            "text/plain": [
              "<Figure size 432x288 with 1 Axes>"
            ]
          },
          "metadata": {
            "tags": []
          }
        },
        {
          "output_type": "display_data",
          "data": {
            "image/png": "[encoded data removed]",
            "text/plain": [
              "<Figure size 432x288 with 1 Axes>"
            ]
          },
          "metadata": {
            "tags": []
          }
        }
      ]
    },
    {
      "cell_type": "markdown",
      "metadata": {
        "id": "G3mPpJgzYKM_",
        "colab_type": "text"
      },
      "source": [
        "#### **Conclusion**\n",
        "\n",
        "In model 2, using dimensionality reduction, even though more complicated than other models, yield the worst result. Model 3 and 4 shows that more complicated networks with more layers and more nodes per layer don't guarantee to give you better results compared to the baseline models and models with simpler architecture like models 1 and 5.\n",
        "\n",
        "Interesting, in model 4, using a \"non-traditional\" activation function, there are great variances in the accuracy and loss for the first couple of epochs.\n",
        "\n",
        "With the convergence of train and loss lines in models 1 and 5, it shows that with more epochs, overfitting can possibly be reduced and give more accurate results."
      ]
    },
    {
      "cell_type": "markdown",
      "metadata": {
        "id": "ozM09LmcYKM_",
        "colab_type": "text"
      },
      "source": [
        "## **Part 4: Cross-validation**\n",
        "We really should have used k-fold (eg. k=5) crossvalidation here, to not only evaluate our five keras/tensorflow models. See how your preliminary results change. Now that we have validation results with uncertainy (+- standard deviation), do your prior conclusion change. "
      ]
    },
    {
      "cell_type": "code",
      "metadata": {
        "id": "ASPUIlsMYKNA",
        "colab_type": "code",
        "colab": {}
      },
      "source": [
        "# fix random seed for reproducibility\n",
        "seed = 7\n",
        "np.random.seed(seed)\n",
        "# define 10-fold cross validation test harness\n",
        "kfold = StratifiedKFold(n_splits=5, shuffle=True, random_state=seed)"
      ],
      "execution_count": 0,
      "outputs": []
    },
    {
      "cell_type": "code",
      "metadata": {
        "id": "J2nD7sZRnPsH",
        "colab_type": "code",
        "colab": {}
      },
      "source": [
        "X_train = X_train.values\n",
        "# Y_train = Y_train.values\n",
        "X_val = X_val.values\n",
        "# Y_val = Y_val.values\n",
        "X_test = X_test.values\n",
        "# Y_test = Y_test.values"
      ],
      "execution_count": 0,
      "outputs": []
    },
    {
      "cell_type": "markdown",
      "metadata": {
        "id": "9ML7z8QaP4wZ",
        "colab_type": "text"
      },
      "source": [
        "### **Model 1**"
      ]
    },
    {
      "cell_type": "code",
      "metadata": {
        "id": "6a6qh5UCQGpb",
        "colab_type": "code",
        "outputId": "48d3ba30-8479-4d39-8fc9-9af3c0a24041",
        "colab": {
          "base_uri": "https://localhost:8080/",
          "height": 127
        }
      },
      "source": [
        "for train, test in kfold.split(X_train, Y_train):\n",
        "  keras.backend.clear_session()\n",
        "  model = get_compiled_model_1()\n",
        "  model.fit(X_train[train], Y_train[train], validation_split=0.1, batch_size=30, callbacks=[es], epochs=100, verbose=0)\n",
        "  scores = model.evaluate(X_train[test], Y_train[test])\n",
        "  cvscores_1.append(scores)"
      ],
      "execution_count": 0,
      "outputs": [
        {
          "output_type": "stream",
          "text": [
            "4168/4168 [==============================] - 0s 27us/sample - loss: 0.3383 - acc: 0.8405 - mean_squared_error: 0.1070 - mean_absolute_error: 0.2023 - root_mean_squared_error: 0.3271 - categorical_accuracy: 1.0000\n",
            "4168/4168 [==============================] - 0s 28us/sample - loss: 0.3334 - acc: 0.8364 - mean_squared_error: 0.1084 - mean_absolute_error: 0.2095 - root_mean_squared_error: 0.3292 - categorical_accuracy: 1.0000\n",
            "4168/4168 [==============================] - 0s 28us/sample - loss: 0.3256 - acc: 0.8438 - mean_squared_error: 0.1047 - mean_absolute_error: 0.2052 - root_mean_squared_error: 0.3236 - categorical_accuracy: 1.0000\n",
            "4167/4167 [==============================] - 0s 29us/sample - loss: 0.3504 - acc: 0.8323 - mean_squared_error: 0.1130 - mean_absolute_error: 0.2206 - root_mean_squared_error: 0.3362 - categorical_accuracy: 1.0000\n",
            "4167/4167 [==============================] - 0s 28us/sample - loss: 0.3313 - acc: 0.8495 - mean_squared_error: 0.1050 - mean_absolute_error: 0.2124 - root_mean_squared_error: 0.3241 - categorical_accuracy: 1.0000\n"
          ],
          "name": "stdout"
        }
      ]
    },
    {
      "cell_type": "code",
      "metadata": {
        "id": "dtMzDYyKQv3W",
        "colab_type": "code",
        "outputId": "c12cb4da-0fe3-450e-8f3f-6d7536319e3e",
        "colab": {
          "base_uri": "https://localhost:8080/",
          "height": 125
        }
      },
      "source": [
        "score_mean = np.mean(cvscores_1, axis=0)\n",
        "score_std = np.std(cvscores_1, axis=0)\n",
        "for index in range(0, 6):\n",
        "  print(\"%s: %.2f%% (+/- %.2f%%)\" % (model.metrics_names[index], score_mean[index]*100, score_std[index]*100))"
      ],
      "execution_count": 0,
      "outputs": [
        {
          "output_type": "stream",
          "text": [
            "loss: 33.58% (+/- 0.84%)\n",
            "acc: 84.05% (+/- 0.60%)\n",
            "mean_squared_error: 10.76% (+/- 0.30%)\n",
            "mean_absolute_error: 21.00% (+/- 0.63%)\n",
            "root_mean_squared_error: 32.80% (+/- 0.46%)\n",
            "categorical_accuracy: 100.00% (+/- 0.00%)\n"
          ],
          "name": "stdout"
        }
      ]
    },
    {
      "cell_type": "markdown",
      "metadata": {
        "id": "GU0pw8C5P96S",
        "colab_type": "text"
      },
      "source": [
        "### **Model 2**"
      ]
    },
    {
      "cell_type": "code",
      "metadata": {
        "id": "Xtgbqo5CSHa2",
        "colab_type": "code",
        "outputId": "d8f9b735-4710-4c8a-ae3b-9e8c1675d733",
        "colab": {
          "base_uri": "https://localhost:8080/",
          "height": 127
        }
      },
      "source": [
        "for train, test in kfold.split(encoded_train, Y_train):\n",
        "  keras.backend.clear_session()\n",
        "  model = get_compiled_model_2()\n",
        "  model.fit(encoded_train[train], Y_train[train], validation_split=0.1, batch_size=30, callbacks=[es], epochs=100, verbose=0)\n",
        "  scores = model.evaluate(encoded_train[test], Y_train[test])\n",
        "  cvscores_2.append(scores)"
      ],
      "execution_count": 0,
      "outputs": [
        {
          "output_type": "stream",
          "text": [
            "4168/4168 [==============================] - 0s 31us/sample - loss: 0.5187 - acc: 0.7565 - mean_squared_error: 0.1710 - mean_absolute_error: 0.3494 - root_mean_squared_error: 0.4135 - categorical_accuracy: 1.0000\n",
            "4168/4168 [==============================] - 0s 34us/sample - loss: 0.5298 - acc: 0.7565 - mean_squared_error: 0.1752 - mean_absolute_error: 0.3579 - root_mean_squared_error: 0.4185 - categorical_accuracy: 1.0000\n",
            "4168/4168 [==============================] - 0s 29us/sample - loss: 0.5231 - acc: 0.7562 - mean_squared_error: 0.1729 - mean_absolute_error: 0.3515 - root_mean_squared_error: 0.4158 - categorical_accuracy: 1.0000\n",
            "4167/4167 [==============================] - 0s 27us/sample - loss: 0.5286 - acc: 0.7567 - mean_squared_error: 0.1749 - mean_absolute_error: 0.3502 - root_mean_squared_error: 0.4183 - categorical_accuracy: 1.0000\n",
            "4167/4167 [==============================] - 0s 27us/sample - loss: 0.5257 - acc: 0.7562 - mean_squared_error: 0.1742 - mean_absolute_error: 0.3447 - root_mean_squared_error: 0.4174 - categorical_accuracy: 1.0000\n"
          ],
          "name": "stdout"
        }
      ]
    },
    {
      "cell_type": "code",
      "metadata": {
        "id": "RqBPtK4SSHx5",
        "colab_type": "code",
        "outputId": "62be3af7-6929-4f2e-e6d6-d8ea6e0bf443",
        "colab": {
          "base_uri": "https://localhost:8080/",
          "height": 125
        }
      },
      "source": [
        "score_mean = np.mean(cvscores_2, axis=0)\n",
        "score_std = np.std(cvscores_2, axis=0)\n",
        "for index in range(0, 6):\n",
        "  print(\"%s: %.2f%% (+/- %.2f%%)\" % (model.metrics_names[index], score_mean[index]*100, score_std[index]*100))"
      ],
      "execution_count": 0,
      "outputs": [
        {
          "output_type": "stream",
          "text": [
            "loss: 52.52% (+/- 0.40%)\n",
            "acc: 75.64% (+/- 0.02%)\n",
            "mean_squared_error: 17.37% (+/- 0.15%)\n",
            "mean_absolute_error: 35.07% (+/- 0.43%)\n",
            "root_mean_squared_error: 41.67% (+/- 0.18%)\n",
            "categorical_accuracy: 100.00% (+/- 0.00%)\n"
          ],
          "name": "stdout"
        }
      ]
    },
    {
      "cell_type": "markdown",
      "metadata": {
        "id": "FObaVyMMQBlX",
        "colab_type": "text"
      },
      "source": [
        "### **Model 3**"
      ]
    },
    {
      "cell_type": "code",
      "metadata": {
        "id": "gxp8VzPVSi-m",
        "colab_type": "code",
        "outputId": "2306f9a6-7977-4be5-8500-aa4b37b70b61",
        "colab": {
          "base_uri": "https://localhost:8080/",
          "height": 127
        }
      },
      "source": [
        "for train, test in kfold.split(X_train, Y_train):\n",
        "  keras.backend.clear_session()\n",
        "  model = get_compiled_model_3()\n",
        "  model.fit(X_train[train], Y_train[train], validation_split=0.1, batch_size=30, callbacks=[es], epochs=100, verbose=0)\n",
        "  scores = model.evaluate(X_train[test], Y_train[test])\n",
        "  cvscores_3.append(scores)"
      ],
      "execution_count": 0,
      "outputs": [
        {
          "output_type": "stream",
          "text": [
            "4168/4168 [==============================] - 0s 29us/sample - loss: 0.3401 - acc: 0.8381 - mean_squared_error: 0.1072 - mean_absolute_error: 0.2109 - root_mean_squared_error: 0.3274 - categorical_accuracy: 1.0000\n",
            "4168/4168 [==============================] - 0s 29us/sample - loss: 0.5548 - acc: 0.7567 - mean_squared_error: 0.1841 - mean_absolute_error: 0.3679 - root_mean_squared_error: 0.4291 - categorical_accuracy: 1.0000\n",
            "4168/4168 [==============================] - 0s 31us/sample - loss: 0.5551 - acc: 0.7565 - mean_squared_error: 0.1842 - mean_absolute_error: 0.3684 - root_mean_squared_error: 0.4292 - categorical_accuracy: 1.0000\n",
            "4167/4167 [==============================] - 0s 30us/sample - loss: 0.3515 - acc: 0.8349 - mean_squared_error: 0.1111 - mean_absolute_error: 0.2096 - root_mean_squared_error: 0.3333 - categorical_accuracy: 1.0000\n",
            "4167/4167 [==============================] - 0s 30us/sample - loss: 0.3324 - acc: 0.8493 - mean_squared_error: 0.1051 - mean_absolute_error: 0.2071 - root_mean_squared_error: 0.3241 - categorical_accuracy: 1.0000\n"
          ],
          "name": "stdout"
        }
      ]
    },
    {
      "cell_type": "code",
      "metadata": {
        "id": "jXVwKP4lSmC4",
        "colab_type": "code",
        "outputId": "9ee677ac-b023-464f-893d-0844f8bdf555",
        "colab": {
          "base_uri": "https://localhost:8080/",
          "height": 125
        }
      },
      "source": [
        "score_mean = np.mean(cvscores_3, axis=0)\n",
        "score_std = np.std(cvscores_3, axis=0)\n",
        "for index in range(0, 6):\n",
        "  print(\"%s: %.2f%% (+/- %.2f%%)\" % (model.metrics_names[index], score_mean[index]*100, score_std[index]*100))"
      ],
      "execution_count": 0,
      "outputs": [
        {
          "output_type": "stream",
          "text": [
            "loss: 42.68% (+/- 10.48%)\n",
            "acc: 80.71% (+/- 4.15%)\n",
            "mean_squared_error: 13.83% (+/- 3.75%)\n",
            "mean_absolute_error: 27.28% (+/- 7.79%)\n",
            "root_mean_squared_error: 36.86% (+/- 4.95%)\n",
            "categorical_accuracy: 100.00% (+/- 0.00%)\n"
          ],
          "name": "stdout"
        }
      ]
    },
    {
      "cell_type": "markdown",
      "metadata": {
        "id": "2xT45i0hQDRJ",
        "colab_type": "text"
      },
      "source": [
        "### **Model 4**"
      ]
    },
    {
      "cell_type": "code",
      "metadata": {
        "id": "koDy4ZA6UoYq",
        "colab_type": "code",
        "outputId": "dba44e03-7028-474d-eae8-945e6d7c4d11",
        "colab": {
          "base_uri": "https://localhost:8080/",
          "height": 127
        }
      },
      "source": [
        "for train, test in kfold.split(X_train, Y_train):\n",
        "  keras.backend.clear_session()\n",
        "  model = get_compiled_model_4()\n",
        "  model.fit(X_train[train], Y_train[train], validation_split=0.1, batch_size=30, callbacks=[es], epochs=100, verbose=0)\n",
        "  scores = model.evaluate(X_train[test], Y_train[test])\n",
        "  cvscores_4.append(scores)"
      ],
      "execution_count": 0,
      "outputs": [
        {
          "output_type": "stream",
          "text": [
            "4168/4168 [==============================] - 0s 30us/sample - loss: 0.5548 - acc: 0.7567 - mean_squared_error: 0.1841 - mean_absolute_error: 0.3678 - root_mean_squared_error: 0.4291 - categorical_accuracy: 1.0000\n",
            "4168/4168 [==============================] - 0s 34us/sample - loss: 0.5066 - acc: 0.7567 - mean_squared_error: 0.1608 - mean_absolute_error: 0.2701 - root_mean_squared_error: 0.4010 - categorical_accuracy: 1.0000\n",
            "4168/4168 [==============================] - 0s 32us/sample - loss: 0.4108 - acc: 0.8076 - mean_squared_error: 0.1299 - mean_absolute_error: 0.2566 - root_mean_squared_error: 0.3604 - categorical_accuracy: 1.0000\n",
            "4167/4167 [==============================] - 0s 33us/sample - loss: 0.5549 - acc: 0.7567 - mean_squared_error: 0.1841 - mean_absolute_error: 0.3674 - root_mean_squared_error: 0.4291 - categorical_accuracy: 1.0000\n",
            "4167/4167 [==============================] - 0s 31us/sample - loss: 0.5549 - acc: 0.7567 - mean_squared_error: 0.1841 - mean_absolute_error: 0.3679 - root_mean_squared_error: 0.4291 - categorical_accuracy: 1.0000\n"
          ],
          "name": "stdout"
        }
      ]
    },
    {
      "cell_type": "code",
      "metadata": {
        "id": "rEnW3BV_Uo0I",
        "colab_type": "code",
        "outputId": "915d6c85-f19f-4323-ad3b-9a3bed531071",
        "colab": {
          "base_uri": "https://localhost:8080/",
          "height": 125
        }
      },
      "source": [
        "score_mean = np.mean(cvscores_4, axis=0)\n",
        "score_std = np.std(cvscores_4, axis=0)\n",
        "for index in range(0, 6):\n",
        "  print(\"%s: %.2f%% (+/- %.2f%%)\" % (model.metrics_names[index], score_mean[index]*100, score_std[index]*100))"
      ],
      "execution_count": 0,
      "outputs": [
        {
          "output_type": "stream",
          "text": [
            "loss: 51.64% (+/- 5.60%)\n",
            "acc: 76.69% (+/- 2.04%)\n",
            "mean_squared_error: 16.86% (+/- 2.14%)\n",
            "mean_absolute_error: 32.59% (+/- 5.13%)\n",
            "root_mean_squared_error: 40.97% (+/- 2.70%)\n",
            "categorical_accuracy: 100.00% (+/- 0.00%)\n"
          ],
          "name": "stdout"
        }
      ]
    },
    {
      "cell_type": "markdown",
      "metadata": {
        "id": "cTB7fzy6QEta",
        "colab_type": "text"
      },
      "source": [
        "### **Model 5**"
      ]
    },
    {
      "cell_type": "code",
      "metadata": {
        "id": "z6_hgaXUU131",
        "colab_type": "code",
        "outputId": "8b4c895a-ef46-4168-a9eb-ac0c6e8dcb73",
        "colab": {
          "base_uri": "https://localhost:8080/",
          "height": 127
        }
      },
      "source": [
        "for train, test in kfold.split(X_train, Y_train):\n",
        "  keras.backend.clear_session()\n",
        "  model = get_compiled_model_5()\n",
        "  model.fit(X_train[train], Y_train[train], validation_split=0.1, batch_size=30, callbacks=[es], epochs=100, verbose=0)\n",
        "  scores = model.evaluate(X_train[test], Y_train[test])\n",
        "  cvscores_5.append(scores)"
      ],
      "execution_count": 0,
      "outputs": [
        {
          "output_type": "stream",
          "text": [
            "4168/4168 [==============================] - 0s 31us/sample - loss: 0.3375 - acc: 0.8357 - mean_squared_error: 0.1084 - mean_absolute_error: 0.2055 - root_mean_squared_error: 0.3292 - categorical_accuracy: 1.0000\n",
            "4168/4168 [==============================] - 0s 28us/sample - loss: 0.3259 - acc: 0.8419 - mean_squared_error: 0.1046 - mean_absolute_error: 0.2133 - root_mean_squared_error: 0.3235 - categorical_accuracy: 1.0000\n",
            "4168/4168 [==============================] - 0s 26us/sample - loss: 0.3270 - acc: 0.8405 - mean_squared_error: 0.1055 - mean_absolute_error: 0.2099 - root_mean_squared_error: 0.3247 - categorical_accuracy: 1.0000\n",
            "4167/4167 [==============================] - 0s 30us/sample - loss: 0.3510 - acc: 0.8371 - mean_squared_error: 0.1129 - mean_absolute_error: 0.2175 - root_mean_squared_error: 0.3360 - categorical_accuracy: 1.0000\n",
            "4167/4167 [==============================] - 0s 27us/sample - loss: 0.3644 - acc: 0.8138 - mean_squared_error: 0.1184 - mean_absolute_error: 0.2416 - root_mean_squared_error: 0.3442 - categorical_accuracy: 1.0000\n"
          ],
          "name": "stdout"
        }
      ]
    },
    {
      "cell_type": "code",
      "metadata": {
        "id": "lPnVFw9hU6Qm",
        "colab_type": "code",
        "outputId": "67e1d18c-2691-44a6-cdb7-8ccc382ace33",
        "colab": {
          "base_uri": "https://localhost:8080/",
          "height": 125
        }
      },
      "source": [
        "score_mean = np.mean(cvscores_5, axis=0)\n",
        "score_std = np.std(cvscores_5, axis=0)\n",
        "for index in range(0, 6):\n",
        "  print(\"%s: %.2f%% (+/- %.2f%%)\" % (model.metrics_names[index], score_mean[index]*100, score_std[index]*100))"
      ],
      "execution_count": 0,
      "outputs": [
        {
          "output_type": "stream",
          "text": [
            "loss: 34.12% (+/- 1.47%)\n",
            "acc: 83.38% (+/- 1.02%)\n",
            "mean_squared_error: 11.00% (+/- 0.51%)\n",
            "mean_absolute_error: 21.76% (+/- 1.27%)\n",
            "root_mean_squared_error: 33.15% (+/- 0.77%)\n",
            "categorical_accuracy: 100.00% (+/- 0.00%)\n"
          ],
          "name": "stdout"
        }
      ]
    },
    {
      "cell_type": "markdown",
      "metadata": {
        "id": "WT4fuFBXYKNC",
        "colab_type": "text"
      },
      "source": [
        "### **Conclusion**\n",
        "\n",
        "By looking at the cross-validation results, we can conclude several things\n",
        "\n",
        "- Model 3, by having deep layers, the model yields really \"unstable\" results. The std of the metrics are highest among all the other models. The same goes for model 4, which has the same architecture overall, except for different activation function at the last layer. Its std of the metrics are higher than average.\n",
        "- Model 2, by doing dimensionality reduction using a simple encoder, even though its accuracy is the lowest, the std of the accuracy is the lowest as well. This model yield \"stable\" results.\n",
        "- Model 2,3,4, even with complicated steps and architectures, yield worse results than the baseline models.\n",
        "- Model 1 and 5 has simple architectures. Even so, their accuracies are already higher than baseline machine learning models."
      ]
    },
    {
      "cell_type": "markdown",
      "metadata": {
        "id": "fW2U2SCcYKND",
        "colab_type": "text"
      },
      "source": [
        "## **Part 5: Refining with Regularization**\n",
        "\n",
        "We know that our biggest problem, if our models are flexibile enough, will be overfitting. Please try to regularize your best 2 models to see if you can improve their results. Look at these questions:\n",
        "\n",
        "* Try regularizing each of your two best models, does the generalizability increase?  of Decrease?  \n",
        "* Is one more sensitive than the other? Why might this happen and why?  \n",
        "* Please try this with all of your features and then with the reduced set of features.  \n",
        "* Report your precision, recall and f1 score on the train and validation sets (no cross validatio yet).  \n",
        "* Next carry out cross validation.  Does regularization reduce under or overfitting?   Why or why not?  \n",
        "\n",
        "** Hint: Try both L1 or L2 norm for regularization or dropout **\n"
      ]
    },
    {
      "cell_type": "markdown",
      "metadata": {
        "id": "C9hDsVAd2uQr",
        "colab_type": "text"
      },
      "source": [
        "### **Model 4 with regularization**"
      ]
    },
    {
      "cell_type": "code",
      "metadata": {
        "id": "L8wOtRjWV83b",
        "colab_type": "code",
        "colab": {}
      },
      "source": [
        "cvscores_4 = []\n",
        "def get_compiled_model_4():\n",
        "  model = Sequential([\n",
        "    Dense(60, input_dim=14, kernel_regularizer=regularizers.l2(0.001)),\n",
        "    Dropout(0.1),\n",
        "    Dense(30, activation='relu', kernel_regularizer=regularizers.l2(0.001)),\n",
        "    Dropout(0.1),\n",
        "    Dense(15, activation='relu', kernel_regularizer=regularizers.l2(0.001)),\n",
        "    Dropout(0.1),\n",
        "    Dense(10, activation='relu', kernel_regularizer=regularizers.l2(0.001)),\n",
        "    Dropout(0.1),\n",
        "    Dense(5, activation='relu', kernel_regularizer=regularizers.l2(0.001)),\n",
        "    Dense(2, activation='relu', kernel_regularizer=regularizers.l2(0.001)),\n",
        "    Dense(1, activation='sigmoid')\n",
        "  ])\n",
        "\n",
        "  model.compile(optimizer='adam',\n",
        "                loss=tf.keras.losses.BinaryCrossentropy(),\n",
        "                metrics=['accuracy', 'mse', 'mae', 'RootMeanSquaredError', 'categorical_accuracy'])\n",
        "  return model\n",
        "\n",
        "for train, test in kfold.split(X_train, Y_train):\n",
        "  keras.backend.clear_session()\n",
        "  model = get_compiled_model_4()\n",
        "  model.fit(X_train[train], Y_train[train], validation_split=0.1, batch_size=30, callbacks=[es], epochs=100, verbose=0)\n",
        "  scores = model.evaluate(X_train[test], Y_train[test])\n",
        "  cvscores_4.append(scores)"
      ],
      "execution_count": 0,
      "outputs": []
    },
    {
      "cell_type": "code",
      "metadata": {
        "id": "8dtMfcYPWfWj",
        "colab_type": "code",
        "outputId": "e7373b63-a1fe-469e-deef-7b8eb3ba0d6e",
        "colab": {
          "base_uri": "https://localhost:8080/",
          "height": 125
        }
      },
      "source": [
        "score_mean = np.mean(cvscores_4, axis=0)\n",
        "score_std = np.std(cvscores_4, axis=0)\n",
        "for index in range(0, 6):\n",
        "  print(\"%s: %.2f%% (+/- %.2f%%)\" % (model.metrics_names[index], score_mean[index]*100, score_std[index]*100))"
      ],
      "execution_count": 0,
      "outputs": [
        {
          "output_type": "stream",
          "text": [
            "loss: 45.12% (+/- 8.48%)\n",
            "acc: 80.28% (+/- 3.78%)\n",
            "mean_squared_error: 14.21% (+/- 3.44%)\n",
            "mean_absolute_error: 29.44% (+/- 5.97%)\n",
            "root_mean_squared_error: 37.43% (+/- 4.48%)\n",
            "categorical_accuracy: 100.00% (+/- 0.00%)\n"
          ],
          "name": "stdout"
        }
      ]
    },
    {
      "cell_type": "markdown",
      "metadata": {
        "id": "ed45Jqd3Wgwe",
        "colab_type": "text"
      },
      "source": [
        "### **Model 5 with regularization**"
      ]
    },
    {
      "cell_type": "code",
      "metadata": {
        "id": "RAOEs7bDWfI4",
        "colab_type": "code",
        "colab": {}
      },
      "source": [
        "cvscores_5 = []\n",
        "def get_compiled_model_5():\n",
        "  model = Sequential([\n",
        "    Dense(14, input_dim=14, kernel_regularizer=regularizers.l2(0.001)),\n",
        "    Dropout(0.1),\n",
        "    Dense(14, activation='relu', kernel_regularizer=regularizers.l2(0.001)),\n",
        "    Dropout(0.1),\n",
        "    Dense(14, activation='relu', kernel_regularizer=regularizers.l2(0.001)),\n",
        "    Dropout(0.1),\n",
        "    Dense(1, activation='sigmoid')\n",
        "  ])\n",
        "\n",
        "  model.compile(optimizer='adam',\n",
        "                loss=tf.keras.losses.BinaryCrossentropy(),\n",
        "                metrics=['accuracy', 'mse', 'mae', 'RootMeanSquaredError', 'categorical_accuracy'])\n",
        "  return model\n",
        "\n",
        "for train, test in kfold.split(X_train, Y_train):\n",
        "  keras.backend.clear_session()\n",
        "  model = get_compiled_model_5()\n",
        "  model.fit(X_train[train], Y_train[train], validation_split=0.1, batch_size=30, callbacks=[es], epochs=100, verbose=0)\n",
        "  scores = model.evaluate(X_train[test], Y_train[test])\n",
        "  cvscores_5.append(scores)"
      ],
      "execution_count": 0,
      "outputs": []
    },
    {
      "cell_type": "code",
      "metadata": {
        "id": "MsA7J0ptWe5y",
        "colab_type": "code",
        "outputId": "8d078249-4691-48e1-a1f8-fbcf66cd779f",
        "colab": {
          "base_uri": "https://localhost:8080/",
          "height": 125
        }
      },
      "source": [
        "score_mean = np.mean(cvscores_5, axis=0)\n",
        "score_std = np.std(cvscores_5, axis=0)\n",
        "for index in range(0, 6):\n",
        "  print(\"%s: %.2f%% (+/- %.2f%%)\" % (model.metrics_names[index], score_mean[index]*100, score_std[index]*100))\n"
      ],
      "execution_count": 0,
      "outputs": [
        {
          "output_type": "stream",
          "text": [
            "loss: 37.15% (+/- 1.31%)\n",
            "acc: 83.18% (+/- 0.63%)\n",
            "mean_squared_error: 11.38% (+/- 0.47%)\n",
            "mean_absolute_error: 22.96% (+/- 0.61%)\n",
            "root_mean_squared_error: 33.72% (+/- 0.69%)\n",
            "categorical_accuracy: 100.00% (+/- 0.00%)\n"
          ],
          "name": "stdout"
        }
      ]
    },
    {
      "cell_type": "markdown",
      "metadata": {
        "id": "xMHaPVeoYKNG",
        "colab_type": "text"
      },
      "source": [
        "### **Conclusion**\n",
        "\n",
        "Using regularization while keeping the same architecture of the network, there are improvements in model 4 and not much differences in model 5.\n",
        "\n",
        "In model 4, there are several improvements. The loss, mae, mse, and rmse all go down, while the accuracy goes up. It means that by applying regularization, model's overfitting issue is mitigated. \n",
        "\n",
        "In model 5, none of the metrics has significant change. However, even with simpler architecture, model 5 still performs better than model 4 overall."
      ]
    },
    {
      "cell_type": "markdown",
      "metadata": {
        "id": "IKdhHzprYKNH",
        "colab_type": "text"
      },
      "source": [
        "## Part 6: Grid Search\n",
        "\n",
        "Please read this [article on using Grid Search CV with Keras](https://mlfromscratch.com/gridsearch-keras-sklearn). Be very very careful. Grid Search is very very slow. Given your above experiments you should have a pretty good idea of what your prameters should be before you run grid search. Run some small gridsearch runs (much smaller or more widely spaced) than you want to estimate time. Remember google colab will end after a limited amount of time so build slowly. Try to pin down the best parameters for:\n",
        "\n",
        "1. The number of layers (please don't go deeper than 10 hidden layers)\n",
        "2. The number of nodes per layer\n",
        "3. The type of regularization to use\n",
        "4. The type of weight initialization to use.\n",
        "5. The type of activation function.\n",
        "6. The metric to evaluate with, although logloss is standard, try using other metrics of accuracy.  \n",
        "\n",
        "You may even try multiple and averaging or taking the harmonic weight of multiple metrics."
      ]
    },
    {
      "cell_type": "code",
      "metadata": {
        "id": "13wdmYOVYKNH",
        "colab_type": "code",
        "outputId": "c5c05d5d-49cd-44ac-af5a-10b20454d339",
        "colab": {
          "base_uri": "https://localhost:8080/",
          "height": 754
        }
      },
      "source": [
        "# Put your implementation here with graphs\n",
        "from tensorflow.keras.wrappers.scikit_learn import KerasClassifier\n",
        "from sklearn.model_selection import GridSearchCV\n",
        "\n",
        "def get_compiled_model_5(optimizer='adam'):\n",
        "  model = Sequential([\n",
        "    Dense(14, input_dim=14, kernel_regularizer=regularizers.l2(0.001)),\n",
        "    Dropout(0.1),\n",
        "    Dense(14, activation='relu', kernel_regularizer=regularizers.l2(0.001)),\n",
        "    Dropout(0.1),\n",
        "    Dense(14, activation='relu', kernel_regularizer=regularizers.l2(0.001)),\n",
        "    Dropout(0.1),\n",
        "    Dense(1, activation='sigmoid')\n",
        "  ])\n",
        "\n",
        "  model.compile(optimizer=optimizer,\n",
        "                loss=tf.keras.losses.BinaryCrossentropy(),\n",
        "                metrics=['accuracy', 'mse', 'mae', 'RootMeanSquaredError', 'categorical_accuracy'])\n",
        "  return model\n",
        "\n",
        "model = KerasClassifier(build_fn=get_compiled_model_5)\n",
        "# optimizers = ['rmsprop', 'adam']\n",
        "batches = np.array([100, 300])\n",
        "param_grid = dict(batch_size=batches)\n",
        "grid = GridSearchCV(estimator=model, param_grid=param_grid)\n",
        "grid_result = grid.fit(X_train, Y_train)\n",
        "print(\"Best: %f using %s\" % (grid_result.best_score_, grid_result.best_params_))\n",
        "for params, mean_score, scores in grid_result.grid_scores_:\n",
        "    print(\"%f (%f) with: %r\" % (scores.mean(), scores.std(), params))"
      ],
      "execution_count": 23,
      "outputs": [
        {
          "output_type": "stream",
          "text": [
            "167/167 [==============================] - 0s 2ms/step - loss: 0.6467 - accuracy: 0.7347 - mse: 0.2013 - mae: 0.3826 - root_mean_squared_error: 0.4487 - categorical_accuracy: 1.0000\n",
            "42/42 [==============================] - 0s 1ms/step - loss: 0.5838 - accuracy: 0.7589 - mse: 0.1822 - mae: 0.3941 - root_mean_squared_error: 0.4269 - categorical_accuracy: 1.0000\n",
            "167/167 [==============================] - 0s 2ms/step - loss: 1.2330 - accuracy: 0.5691 - mse: 0.3170 - mae: 0.4589 - root_mean_squared_error: 0.5631 - categorical_accuracy: 1.0000\n",
            "42/42 [==============================] - 0s 1ms/step - loss: 0.5949 - accuracy: 0.7586 - mse: 0.1866 - mae: 0.3861 - root_mean_squared_error: 0.4320 - categorical_accuracy: 1.0000\n",
            "167/167 [==============================] - 0s 2ms/step - loss: 0.7456 - accuracy: 0.6958 - mse: 0.2219 - mae: 0.3833 - root_mean_squared_error: 0.4711 - categorical_accuracy: 1.0000\n",
            "42/42 [==============================] - 0s 1ms/step - loss: 0.5501 - accuracy: 0.7610 - mse: 0.1693 - mae: 0.3522 - root_mean_squared_error: 0.4114 - categorical_accuracy: 1.0000\n",
            "167/167 [==============================] - 0s 2ms/step - loss: 0.8379 - accuracy: 0.6662 - mse: 0.2437 - mae: 0.3853 - root_mean_squared_error: 0.4936 - categorical_accuracy: 1.0000\n",
            "42/42 [==============================] - 0s 1ms/step - loss: 0.5895 - accuracy: 0.7531 - mse: 0.1825 - mae: 0.3741 - root_mean_squared_error: 0.4272 - categorical_accuracy: 1.0000\n",
            "167/167 [==============================] - 0s 2ms/step - loss: 0.9195 - accuracy: 0.6394 - mse: 0.2654 - mae: 0.4254 - root_mean_squared_error: 0.5151 - categorical_accuracy: 1.0000\n",
            "42/42 [==============================] - 0s 1ms/step - loss: 0.5954 - accuracy: 0.7495 - mse: 0.1859 - mae: 0.3863 - root_mean_squared_error: 0.4312 - categorical_accuracy: 1.0000\n",
            "56/56 [==============================] - 0s 2ms/step - loss: 1.4905 - accuracy: 0.5888 - mse: 0.3335 - mae: 0.4248 - root_mean_squared_error: 0.5775 - categorical_accuracy: 1.0000\n",
            "14/14 [==============================] - 0s 2ms/step - loss: 0.6030 - accuracy: 0.7409 - mse: 0.1893 - mae: 0.3567 - root_mean_squared_error: 0.4351 - categorical_accuracy: 1.0000\n",
            "56/56 [==============================] - 0s 2ms/step - loss: 0.8347 - accuracy: 0.6717 - mse: 0.2427 - mae: 0.3779 - root_mean_squared_error: 0.4926 - categorical_accuracy: 1.0000\n",
            "14/14 [==============================] - 0s 2ms/step - loss: 0.5802 - accuracy: 0.7601 - mse: 0.1796 - mae: 0.3669 - root_mean_squared_error: 0.4238 - categorical_accuracy: 1.0000\n",
            "56/56 [==============================] - 0s 2ms/step - loss: 1.6745 - accuracy: 0.5933 - mse: 0.3369 - mae: 0.4167 - root_mean_squared_error: 0.5805 - categorical_accuracy: 1.0000\n",
            "14/14 [==============================] - 0s 1ms/step - loss: 0.7512 - accuracy: 0.7567 - mse: 0.2127 - mae: 0.3120 - root_mean_squared_error: 0.4612 - categorical_accuracy: 1.0000\n",
            "56/56 [==============================] - 0s 2ms/step - loss: 1.2400 - accuracy: 0.6645 - mse: 0.2768 - mae: 0.3808 - root_mean_squared_error: 0.5261 - categorical_accuracy: 1.0000\n",
            "14/14 [==============================] - 0s 2ms/step - loss: 0.6179 - accuracy: 0.7531 - mse: 0.1931 - mae: 0.3655 - root_mean_squared_error: 0.4395 - categorical_accuracy: 1.0000\n",
            "56/56 [==============================] - 0s 2ms/step - loss: 1.0186 - accuracy: 0.6918 - mse: 0.2337 - mae: 0.3438 - root_mean_squared_error: 0.4834 - categorical_accuracy: 1.0000\n",
            "14/14 [==============================] - 0s 2ms/step - loss: 0.6241 - accuracy: 0.7389 - mse: 0.1998 - mae: 0.4168 - root_mean_squared_error: 0.4470 - categorical_accuracy: 1.0000\n"
          ],
          "name": "stdout"
        },
        {
          "output_type": "error",
          "ename": "RuntimeError",
          "evalue": "ignored",
          "traceback": [
            "\u001b[0;31m---------------------------------------------------------------------------\u001b[0m",
            "\u001b[0;31mRuntimeError\u001b[0m                              Traceback (most recent call last)",
            "\u001b[0;32m<ipython-input-23-0cfe4f591d0f>\u001b[0m in \u001b[0;36m<module>\u001b[0;34m()\u001b[0m\n\u001b[1;32m     23\u001b[0m \u001b[0mparam_grid\u001b[0m \u001b[0;34m=\u001b[0m \u001b[0mdict\u001b[0m\u001b[0;34m(\u001b[0m\u001b[0mbatch_size\u001b[0m\u001b[0;34m=\u001b[0m\u001b[0mbatches\u001b[0m\u001b[0;34m)\u001b[0m\u001b[0;34m\u001b[0m\u001b[0;34m\u001b[0m\u001b[0m\n\u001b[1;32m     24\u001b[0m \u001b[0mgrid\u001b[0m \u001b[0;34m=\u001b[0m \u001b[0mGridSearchCV\u001b[0m\u001b[0;34m(\u001b[0m\u001b[0mestimator\u001b[0m\u001b[0;34m=\u001b[0m\u001b[0mmodel\u001b[0m\u001b[0;34m,\u001b[0m \u001b[0mparam_grid\u001b[0m\u001b[0;34m=\u001b[0m\u001b[0mparam_grid\u001b[0m\u001b[0;34m)\u001b[0m\u001b[0;34m\u001b[0m\u001b[0;34m\u001b[0m\u001b[0m\n\u001b[0;32m---> 25\u001b[0;31m \u001b[0mgrid_result\u001b[0m \u001b[0;34m=\u001b[0m \u001b[0mgrid\u001b[0m\u001b[0;34m.\u001b[0m\u001b[0mfit\u001b[0m\u001b[0;34m(\u001b[0m\u001b[0mX_train\u001b[0m\u001b[0;34m,\u001b[0m \u001b[0mY_train\u001b[0m\u001b[0;34m)\u001b[0m\u001b[0;34m\u001b[0m\u001b[0;34m\u001b[0m\u001b[0m\n\u001b[0m\u001b[1;32m     26\u001b[0m \u001b[0mprint\u001b[0m\u001b[0;34m(\u001b[0m\u001b[0;34m\"Best: %f using %s\"\u001b[0m \u001b[0;34m%\u001b[0m \u001b[0;34m(\u001b[0m\u001b[0mgrid_result\u001b[0m\u001b[0;34m.\u001b[0m\u001b[0mbest_score_\u001b[0m\u001b[0;34m,\u001b[0m \u001b[0mgrid_result\u001b[0m\u001b[0;34m.\u001b[0m\u001b[0mbest_params_\u001b[0m\u001b[0;34m)\u001b[0m\u001b[0;34m)\u001b[0m\u001b[0;34m\u001b[0m\u001b[0;34m\u001b[0m\u001b[0m\n\u001b[1;32m     27\u001b[0m \u001b[0;32mfor\u001b[0m \u001b[0mparams\u001b[0m\u001b[0;34m,\u001b[0m \u001b[0mmean_score\u001b[0m\u001b[0;34m,\u001b[0m \u001b[0mscores\u001b[0m \u001b[0;32min\u001b[0m \u001b[0mgrid_result\u001b[0m\u001b[0;34m.\u001b[0m\u001b[0mgrid_scores_\u001b[0m\u001b[0;34m:\u001b[0m\u001b[0;34m\u001b[0m\u001b[0;34m\u001b[0m\u001b[0m\n",
            "\u001b[0;32m/usr/local/lib/python3.6/dist-packages/sklearn/model_selection/_search.py\u001b[0m in \u001b[0;36mfit\u001b[0;34m(self, X, y, groups, **fit_params)\u001b[0m\n\u001b[1;32m    734\u001b[0m             \u001b[0;31m# of the params are estimators as well.\u001b[0m\u001b[0;34m\u001b[0m\u001b[0;34m\u001b[0m\u001b[0;34m\u001b[0m\u001b[0m\n\u001b[1;32m    735\u001b[0m             self.best_estimator_ = clone(clone(base_estimator).set_params(\n\u001b[0;32m--> 736\u001b[0;31m                 **self.best_params_))\n\u001b[0m\u001b[1;32m    737\u001b[0m             \u001b[0mrefit_start_time\u001b[0m \u001b[0;34m=\u001b[0m \u001b[0mtime\u001b[0m\u001b[0;34m.\u001b[0m\u001b[0mtime\u001b[0m\u001b[0;34m(\u001b[0m\u001b[0;34m)\u001b[0m\u001b[0;34m\u001b[0m\u001b[0;34m\u001b[0m\u001b[0m\n\u001b[1;32m    738\u001b[0m             \u001b[0;32mif\u001b[0m \u001b[0my\u001b[0m \u001b[0;32mis\u001b[0m \u001b[0;32mnot\u001b[0m \u001b[0;32mNone\u001b[0m\u001b[0;34m:\u001b[0m\u001b[0;34m\u001b[0m\u001b[0;34m\u001b[0m\u001b[0m\n",
            "\u001b[0;32m/usr/local/lib/python3.6/dist-packages/sklearn/base.py\u001b[0m in \u001b[0;36mclone\u001b[0;34m(estimator, safe)\u001b[0m\n\u001b[1;32m     80\u001b[0m             raise RuntimeError('Cannot clone object %s, as the constructor '\n\u001b[1;32m     81\u001b[0m                                \u001b[0;34m'either does not set or modifies parameter %s'\u001b[0m \u001b[0;34m%\u001b[0m\u001b[0;34m\u001b[0m\u001b[0;34m\u001b[0m\u001b[0m\n\u001b[0;32m---> 82\u001b[0;31m                                (estimator, name))\n\u001b[0m\u001b[1;32m     83\u001b[0m     \u001b[0;32mreturn\u001b[0m \u001b[0mnew_object\u001b[0m\u001b[0;34m\u001b[0m\u001b[0;34m\u001b[0m\u001b[0m\n\u001b[1;32m     84\u001b[0m \u001b[0;34m\u001b[0m\u001b[0m\n",
            "\u001b[0;31mRuntimeError\u001b[0m: Cannot clone object <tensorflow.python.keras.wrappers.scikit_learn.KerasClassifier object at 0x7f9c03abb978>, as the constructor either does not set or modifies parameter batch_size"
          ]
        }
      ]
    },
    {
      "cell_type": "markdown",
      "metadata": {
        "id": "IAqRdqliYKNK",
        "colab_type": "text"
      },
      "source": [
        "### Grid search conclusion\n",
        "\n",
        "There seems to be a bug in Keras or Scikit-learn with Keras wrapper and gridsearchcv currently. I tried to search for the problem, but can't seem to fix it. I would try other grid search method given enough time. Sorry :<"
      ]
    },
    {
      "cell_type": "markdown",
      "metadata": {
        "id": "VLSoDNqEYKNK",
        "colab_type": "text"
      },
      "source": [
        "## Overall Conclusion\n",
        "\n",
        "Conclude with a full report here on what we know now about this problem. How well it does verses baseline, what the best Keras archtecture is, what features should be used, how the data should be cleaned etc."
      ]
    },
    {
      "cell_type": "markdown",
      "metadata": {
        "id": "d_PlphTG_wB6",
        "colab_type": "text"
      },
      "source": [
        "The overall conclusion is that deep learning models can generally perform better than the baseline machine learning models. However, it takes a lot of efforts and time to fine-tune their hyperparameters and architectures in order to yield better results. Otherwise, the models may actually perform worse than the baseline models, in spite of being much more complicated. The best architectures for a quick guess into the data would be a simple dense network like model 5. No complicated regularization is needed for it to beat the baseline model. However, to get even better results, we can try to drop random columns from the input data, or try different methods to fill in the missing data. Based on the result from model 2, a better encoder can potentially increase the accuracy of the model. However, lots of hyperparameters tunning would be needed."
      ]
    },
    {
      "cell_type": "code",
      "metadata": {
        "id": "IVRFnfOjYKNK",
        "colab_type": "code",
        "colab": {}
      },
      "source": [
        ""
      ],
      "execution_count": 0,
      "outputs": []
    }
  ]
}